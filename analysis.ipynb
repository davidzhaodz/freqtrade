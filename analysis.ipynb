{
 "cells": [
  {
   "cell_type": "code",
   "execution_count": 1,
   "metadata": {},
   "outputs": [],
   "source": [
    "from pathlib import Path\n",
    "from freqtrade.configuration import Configuration"
   ]
  },
  {
   "cell_type": "code",
   "execution_count": 26,
   "metadata": {
    "tags": []
   },
   "outputs": [
    {
     "output_type": "stream",
     "name": "stderr",
     "text": "2020-06-21 14:51:28,794 - freqtrade.loggers - INFO - Verbosity set to 0\n2020-06-21 14:51:28,796 - freqtrade.configuration.configuration - INFO - Using user-data directory: /Users/davidzhao/freqtrade/user_data ...\n2020-06-21 14:51:28,796 - freqtrade.configuration.configuration - INFO - Using data directory: /Users/davidzhao/freqtrade/user_data/data ...\n"
    }
   ],
   "source": [
    "# Customize these according to your needs.\n",
    "\n",
    "# Initialize empty configuration object\n",
    "config = Configuration.from_files([])\n",
    "# Optionally, use existing configuration file\n",
    "# config = Configuration.from_files([\"config.json\"])\n",
    "\n",
    "# Define some constants\n",
    "config[\"timeframe\"] = \"5m\"\n",
    "# Name of the strategy class\n",
    "config[\"strategy\"] = \"BinHV27\"\n",
    "strategy_name = str(config[\"strategy\"])\n",
    "# Location of the data\n",
    "data_location = Path(config['user_data_dir'], 'data', 'binance')\n",
    "# Pair to analyze - Only use one pair here\n",
    "pair = \"BTC_USDT\""
   ]
  },
  {
   "cell_type": "code",
   "execution_count": 11,
   "metadata": {
    "tags": []
   },
   "outputs": [
    {
     "output_type": "stream",
     "name": "stderr",
     "text": "2020-06-21 14:46:34,601 - freqtrade.data.converter - INFO - Missing data fillup for BTC_USDT: before: 104855 - after: 105140\n"
    }
   ],
   "source": [
    "# Load data using values set above\n",
    "from freqtrade.data.history import load_pair_history\n",
    "\n",
    "candles = load_pair_history(datadir=data_location,\n",
    "                            timeframe=config[\"timeframe\"],\n",
    "                            pair=pair)"
   ]
  },
  {
   "cell_type": "code",
   "execution_count": 12,
   "metadata": {
    "tags": []
   },
   "outputs": [
    {
     "output_type": "stream",
     "name": "stdout",
     "text": "Loaded 105140 rows of data for BTC_USDT from /Users/davidzhao/freqtrade/user_data/data/binance\n"
    },
    {
     "output_type": "execute_result",
     "data": {
      "text/plain": "                       date     open     high      low    close      volume\n0 2019-06-21 00:00:00+00:00  9518.06  9540.00  9518.06  9535.23  124.147818\n1 2019-06-21 00:05:00+00:00  9535.48  9545.00  9526.55  9544.77   61.203835\n2 2019-06-21 00:10:00+00:00  9543.08  9548.83  9531.00  9539.10   47.280615\n3 2019-06-21 00:15:00+00:00  9539.10  9554.00  9538.93  9540.49   59.106269\n4 2019-06-21 00:20:00+00:00  9543.49  9557.00  9541.97  9556.99   44.578636",
      "text/html": "<div>\n<style scoped>\n    .dataframe tbody tr th:only-of-type {\n        vertical-align: middle;\n    }\n\n    .dataframe tbody tr th {\n        vertical-align: top;\n    }\n\n    .dataframe thead th {\n        text-align: right;\n    }\n</style>\n<table border=\"1\" class=\"dataframe\">\n  <thead>\n    <tr style=\"text-align: right;\">\n      <th></th>\n      <th>date</th>\n      <th>open</th>\n      <th>high</th>\n      <th>low</th>\n      <th>close</th>\n      <th>volume</th>\n    </tr>\n  </thead>\n  <tbody>\n    <tr>\n      <th>0</th>\n      <td>2019-06-21 00:00:00+00:00</td>\n      <td>9518.06</td>\n      <td>9540.00</td>\n      <td>9518.06</td>\n      <td>9535.23</td>\n      <td>124.147818</td>\n    </tr>\n    <tr>\n      <th>1</th>\n      <td>2019-06-21 00:05:00+00:00</td>\n      <td>9535.48</td>\n      <td>9545.00</td>\n      <td>9526.55</td>\n      <td>9544.77</td>\n      <td>61.203835</td>\n    </tr>\n    <tr>\n      <th>2</th>\n      <td>2019-06-21 00:10:00+00:00</td>\n      <td>9543.08</td>\n      <td>9548.83</td>\n      <td>9531.00</td>\n      <td>9539.10</td>\n      <td>47.280615</td>\n    </tr>\n    <tr>\n      <th>3</th>\n      <td>2019-06-21 00:15:00+00:00</td>\n      <td>9539.10</td>\n      <td>9554.00</td>\n      <td>9538.93</td>\n      <td>9540.49</td>\n      <td>59.106269</td>\n    </tr>\n    <tr>\n      <th>4</th>\n      <td>2019-06-21 00:20:00+00:00</td>\n      <td>9543.49</td>\n      <td>9557.00</td>\n      <td>9541.97</td>\n      <td>9556.99</td>\n      <td>44.578636</td>\n    </tr>\n  </tbody>\n</table>\n</div>"
     },
     "metadata": {},
     "execution_count": 12
    }
   ],
   "source": [
    "# Confirm success\n",
    "print(\"Loaded \" + str(len(candles)) + f\" rows of data for {pair} from {data_location}\")\n",
    "candles.head()"
   ]
  },
  {
   "cell_type": "code",
   "execution_count": 13,
   "metadata": {
    "tags": []
   },
   "outputs": [
    {
     "output_type": "stream",
     "name": "stderr",
     "text": "2020-06-21 14:46:34,967 - freqtrade.data.converter - INFO - Missing data fillup for BTC_USDT: before: 104855 - after: 105140\n"
    }
   ],
   "source": [
    "# Load data using values set above\n",
    "from freqtrade.data.history import load_pair_history\n",
    "\n",
    "candles = load_pair_history(datadir=data_location,\n",
    "                            timeframe=config[\"timeframe\"],\n",
    "                            pair=pair)"
   ]
  },
  {
   "cell_type": "code",
   "execution_count": 14,
   "metadata": {
    "tags": []
   },
   "outputs": [
    {
     "output_type": "stream",
     "name": "stdout",
     "text": "Loaded 105140 rows of data for BTC_USDT from /Users/davidzhao/freqtrade/user_data/data/binance\n"
    },
    {
     "output_type": "execute_result",
     "data": {
      "text/plain": "                       date     open     high      low    close      volume\n0 2019-06-21 00:00:00+00:00  9518.06  9540.00  9518.06  9535.23  124.147818\n1 2019-06-21 00:05:00+00:00  9535.48  9545.00  9526.55  9544.77   61.203835\n2 2019-06-21 00:10:00+00:00  9543.08  9548.83  9531.00  9539.10   47.280615\n3 2019-06-21 00:15:00+00:00  9539.10  9554.00  9538.93  9540.49   59.106269\n4 2019-06-21 00:20:00+00:00  9543.49  9557.00  9541.97  9556.99   44.578636",
      "text/html": "<div>\n<style scoped>\n    .dataframe tbody tr th:only-of-type {\n        vertical-align: middle;\n    }\n\n    .dataframe tbody tr th {\n        vertical-align: top;\n    }\n\n    .dataframe thead th {\n        text-align: right;\n    }\n</style>\n<table border=\"1\" class=\"dataframe\">\n  <thead>\n    <tr style=\"text-align: right;\">\n      <th></th>\n      <th>date</th>\n      <th>open</th>\n      <th>high</th>\n      <th>low</th>\n      <th>close</th>\n      <th>volume</th>\n    </tr>\n  </thead>\n  <tbody>\n    <tr>\n      <th>0</th>\n      <td>2019-06-21 00:00:00+00:00</td>\n      <td>9518.06</td>\n      <td>9540.00</td>\n      <td>9518.06</td>\n      <td>9535.23</td>\n      <td>124.147818</td>\n    </tr>\n    <tr>\n      <th>1</th>\n      <td>2019-06-21 00:05:00+00:00</td>\n      <td>9535.48</td>\n      <td>9545.00</td>\n      <td>9526.55</td>\n      <td>9544.77</td>\n      <td>61.203835</td>\n    </tr>\n    <tr>\n      <th>2</th>\n      <td>2019-06-21 00:10:00+00:00</td>\n      <td>9543.08</td>\n      <td>9548.83</td>\n      <td>9531.00</td>\n      <td>9539.10</td>\n      <td>47.280615</td>\n    </tr>\n    <tr>\n      <th>3</th>\n      <td>2019-06-21 00:15:00+00:00</td>\n      <td>9539.10</td>\n      <td>9554.00</td>\n      <td>9538.93</td>\n      <td>9540.49</td>\n      <td>59.106269</td>\n    </tr>\n    <tr>\n      <th>4</th>\n      <td>2019-06-21 00:20:00+00:00</td>\n      <td>9543.49</td>\n      <td>9557.00</td>\n      <td>9541.97</td>\n      <td>9556.99</td>\n      <td>44.578636</td>\n    </tr>\n  </tbody>\n</table>\n</div>"
     },
     "metadata": {},
     "execution_count": 14
    }
   ],
   "source": [
    "# Confirm success\n",
    "print(\"Loaded \" + str(len(candles)) + f\" rows of data for {pair} from {data_location}\")\n",
    "candles.head()"
   ]
  },
  {
   "cell_type": "code",
   "execution_count": 15,
   "metadata": {
    "tags": []
   },
   "outputs": [
    {
     "output_type": "stream",
     "name": "stderr",
     "text": "2020-06-21 14:46:36,505 - freqtrade.resolvers.iresolver - INFO - Using resolved strategy BinHV27 from '/Users/davidzhao/freqtrade/user_data/strategies/BinHV27.py'...\n2020-06-21 14:46:36,506 - freqtrade.resolvers.strategy_resolver - INFO - Override strategy 'timeframe' with value in config file: 5m.\n2020-06-21 14:46:36,506 - freqtrade.resolvers.strategy_resolver - INFO - Override strategy 'stake_currency' with value in config file: .\n2020-06-21 14:46:36,507 - freqtrade.resolvers.strategy_resolver - INFO - Strategy using minimal_roi: {'0': 1}\n2020-06-21 14:46:36,508 - freqtrade.resolvers.strategy_resolver - INFO - Strategy using timeframe: 5m\n2020-06-21 14:46:36,508 - freqtrade.resolvers.strategy_resolver - INFO - Strategy using stoploss: -0.5\n2020-06-21 14:46:36,509 - freqtrade.resolvers.strategy_resolver - INFO - Strategy using trailing_stop: False\n2020-06-21 14:46:36,510 - freqtrade.resolvers.strategy_resolver - INFO - Strategy using trailing_stop_positive_offset: 0.0\n2020-06-21 14:46:36,510 - freqtrade.resolvers.strategy_resolver - INFO - Strategy using trailing_only_offset_is_reached: False\n2020-06-21 14:46:36,512 - freqtrade.resolvers.strategy_resolver - INFO - Strategy using process_only_new_candles: False\n2020-06-21 14:46:36,513 - freqtrade.resolvers.strategy_resolver - INFO - Strategy using order_types: {'buy': 'limit', 'sell': 'limit', 'stoploss': 'limit', 'stoploss_on_exchange': False, 'stoploss_on_exchange_interval': 60}\n2020-06-21 14:46:36,513 - freqtrade.resolvers.strategy_resolver - INFO - Strategy using order_time_in_force: {'buy': 'gtc', 'sell': 'gtc'}\n2020-06-21 14:46:36,514 - freqtrade.resolvers.strategy_resolver - INFO - Strategy using stake_currency: \n2020-06-21 14:46:36,515 - freqtrade.resolvers.strategy_resolver - INFO - Strategy using startup_candle_count: 0\n2020-06-21 14:46:36,515 - freqtrade.resolvers.strategy_resolver - INFO - Strategy using use_sell_signal: True\n2020-06-21 14:46:36,516 - freqtrade.resolvers.strategy_resolver - INFO - Strategy using sell_profit_only: False\n2020-06-21 14:46:36,517 - freqtrade.resolvers.strategy_resolver - INFO - Strategy using ignore_roi_if_buy_signal: False\n2020-06-21 14:46:36,517 - freqtrade.resolvers.strategy_resolver - INFO - Strategy using disable_dataframe_checks: False\n"
    },
    {
     "output_type": "execute_result",
     "data": {
      "text/plain": "                            date     open     high      low    close  \\\n105135 2020-06-20 01:15:00+00:00  9319.00  9329.00  9312.31  9326.20   \n105136 2020-06-20 01:20:00+00:00  9326.28  9327.60  9316.15  9316.58   \n105137 2020-06-20 01:25:00+00:00  9316.57  9325.00  9316.57  9319.52   \n105138 2020-06-20 01:30:00+00:00  9319.52  9326.72  9319.05  9323.16   \n105139 2020-06-20 01:35:00+00:00  9323.37  9325.76  9317.27  9322.49   \n\n            volume        rsi     emarsi        adx    minusdi  ...  bigup  \\\n105135  133.883099  72.543546  56.187182  11.368861  22.526765  ...  False   \n105136   69.742946  52.508304  54.960889  10.828760  21.260174  ...  False   \n105137   83.533652  57.040770  55.654183  10.327238  20.352835  ...  False   \n105138   61.897065  62.569292  57.959219  10.010498  19.535898  ...  False   \n105139   53.627511  60.769905  58.896114   9.537939  19.601193  ...  False   \n\n        bigdown      trend  preparechangetrend  preparechangetrendconfirm  \\\n105135     True -16.112792               False                      False   \n105136     True -16.452083               False                      False   \n105137     True -16.857958               False                      False   \n105138     True -17.295708               False                      False   \n105139     True -17.724792               False                      False   \n\n        continueup     delta  slowingdown  buy  sell  \n105135        True -0.329167        False  NaN   NaN  \n105136        True -0.323333        False  NaN   NaN  \n105137        True -0.326833         True  NaN   NaN  \n105138        True -0.354500         True  NaN   NaN  \n105139        True -0.387500         True  NaN   NaN  \n\n[5 rows x 27 columns]",
      "text/html": "<div>\n<style scoped>\n    .dataframe tbody tr th:only-of-type {\n        vertical-align: middle;\n    }\n\n    .dataframe tbody tr th {\n        vertical-align: top;\n    }\n\n    .dataframe thead th {\n        text-align: right;\n    }\n</style>\n<table border=\"1\" class=\"dataframe\">\n  <thead>\n    <tr style=\"text-align: right;\">\n      <th></th>\n      <th>date</th>\n      <th>open</th>\n      <th>high</th>\n      <th>low</th>\n      <th>close</th>\n      <th>volume</th>\n      <th>rsi</th>\n      <th>emarsi</th>\n      <th>adx</th>\n      <th>minusdi</th>\n      <th>...</th>\n      <th>bigup</th>\n      <th>bigdown</th>\n      <th>trend</th>\n      <th>preparechangetrend</th>\n      <th>preparechangetrendconfirm</th>\n      <th>continueup</th>\n      <th>delta</th>\n      <th>slowingdown</th>\n      <th>buy</th>\n      <th>sell</th>\n    </tr>\n  </thead>\n  <tbody>\n    <tr>\n      <th>105135</th>\n      <td>2020-06-20 01:15:00+00:00</td>\n      <td>9319.00</td>\n      <td>9329.00</td>\n      <td>9312.31</td>\n      <td>9326.20</td>\n      <td>133.883099</td>\n      <td>72.543546</td>\n      <td>56.187182</td>\n      <td>11.368861</td>\n      <td>22.526765</td>\n      <td>...</td>\n      <td>False</td>\n      <td>True</td>\n      <td>-16.112792</td>\n      <td>False</td>\n      <td>False</td>\n      <td>True</td>\n      <td>-0.329167</td>\n      <td>False</td>\n      <td>NaN</td>\n      <td>NaN</td>\n    </tr>\n    <tr>\n      <th>105136</th>\n      <td>2020-06-20 01:20:00+00:00</td>\n      <td>9326.28</td>\n      <td>9327.60</td>\n      <td>9316.15</td>\n      <td>9316.58</td>\n      <td>69.742946</td>\n      <td>52.508304</td>\n      <td>54.960889</td>\n      <td>10.828760</td>\n      <td>21.260174</td>\n      <td>...</td>\n      <td>False</td>\n      <td>True</td>\n      <td>-16.452083</td>\n      <td>False</td>\n      <td>False</td>\n      <td>True</td>\n      <td>-0.323333</td>\n      <td>False</td>\n      <td>NaN</td>\n      <td>NaN</td>\n    </tr>\n    <tr>\n      <th>105137</th>\n      <td>2020-06-20 01:25:00+00:00</td>\n      <td>9316.57</td>\n      <td>9325.00</td>\n      <td>9316.57</td>\n      <td>9319.52</td>\n      <td>83.533652</td>\n      <td>57.040770</td>\n      <td>55.654183</td>\n      <td>10.327238</td>\n      <td>20.352835</td>\n      <td>...</td>\n      <td>False</td>\n      <td>True</td>\n      <td>-16.857958</td>\n      <td>False</td>\n      <td>False</td>\n      <td>True</td>\n      <td>-0.326833</td>\n      <td>True</td>\n      <td>NaN</td>\n      <td>NaN</td>\n    </tr>\n    <tr>\n      <th>105138</th>\n      <td>2020-06-20 01:30:00+00:00</td>\n      <td>9319.52</td>\n      <td>9326.72</td>\n      <td>9319.05</td>\n      <td>9323.16</td>\n      <td>61.897065</td>\n      <td>62.569292</td>\n      <td>57.959219</td>\n      <td>10.010498</td>\n      <td>19.535898</td>\n      <td>...</td>\n      <td>False</td>\n      <td>True</td>\n      <td>-17.295708</td>\n      <td>False</td>\n      <td>False</td>\n      <td>True</td>\n      <td>-0.354500</td>\n      <td>True</td>\n      <td>NaN</td>\n      <td>NaN</td>\n    </tr>\n    <tr>\n      <th>105139</th>\n      <td>2020-06-20 01:35:00+00:00</td>\n      <td>9323.37</td>\n      <td>9325.76</td>\n      <td>9317.27</td>\n      <td>9322.49</td>\n      <td>53.627511</td>\n      <td>60.769905</td>\n      <td>58.896114</td>\n      <td>9.537939</td>\n      <td>19.601193</td>\n      <td>...</td>\n      <td>False</td>\n      <td>True</td>\n      <td>-17.724792</td>\n      <td>False</td>\n      <td>False</td>\n      <td>True</td>\n      <td>-0.387500</td>\n      <td>True</td>\n      <td>NaN</td>\n      <td>NaN</td>\n    </tr>\n  </tbody>\n</table>\n<p>5 rows × 27 columns</p>\n</div>"
     },
     "metadata": {},
     "execution_count": 15
    }
   ],
   "source": [
    "# Load strategy using values set above\n",
    "from freqtrade.resolvers import StrategyResolver\n",
    "strategy = StrategyResolver.load_strategy(config)\n",
    "\n",
    "# Generate buy/sell signals using strategy\n",
    "df = strategy.analyze_ticker(candles, {'pair': pair})\n",
    "df.tail()"
   ]
  },
  {
   "cell_type": "code",
   "execution_count": 16,
   "metadata": {
    "tags": []
   },
   "outputs": [
    {
     "output_type": "stream",
     "name": "stdout",
     "text": "Generated 305.0 buy signals\n"
    },
    {
     "output_type": "execute_result",
     "data": {
      "text/plain": "                                               date     open     high  \\\ndate                                                                    \n2020-06-20 01:15:00+00:00 2020-06-20 01:15:00+00:00  9319.00  9329.00   \n2020-06-20 01:20:00+00:00 2020-06-20 01:20:00+00:00  9326.28  9327.60   \n2020-06-20 01:25:00+00:00 2020-06-20 01:25:00+00:00  9316.57  9325.00   \n2020-06-20 01:30:00+00:00 2020-06-20 01:30:00+00:00  9319.52  9326.72   \n2020-06-20 01:35:00+00:00 2020-06-20 01:35:00+00:00  9323.37  9325.76   \n\n                               low    close      volume        rsi     emarsi  \\\ndate                                                                            \n2020-06-20 01:15:00+00:00  9312.31  9326.20  133.883099  72.543546  56.187182   \n2020-06-20 01:20:00+00:00  9316.15  9316.58   69.742946  52.508304  54.960889   \n2020-06-20 01:25:00+00:00  9316.57  9319.52   83.533652  57.040770  55.654183   \n2020-06-20 01:30:00+00:00  9319.05  9323.16   61.897065  62.569292  57.959219   \n2020-06-20 01:35:00+00:00  9317.27  9322.49   53.627511  60.769905  58.896114   \n\n                                 adx    minusdi  ...  bigup  bigdown  \\\ndate                                             ...                   \n2020-06-20 01:15:00+00:00  11.368861  22.526765  ...  False     True   \n2020-06-20 01:20:00+00:00  10.828760  21.260174  ...  False     True   \n2020-06-20 01:25:00+00:00  10.327238  20.352835  ...  False     True   \n2020-06-20 01:30:00+00:00  10.010498  19.535898  ...  False     True   \n2020-06-20 01:35:00+00:00   9.537939  19.601193  ...  False     True   \n\n                               trend  preparechangetrend  \\\ndate                                                       \n2020-06-20 01:15:00+00:00 -16.112792               False   \n2020-06-20 01:20:00+00:00 -16.452083               False   \n2020-06-20 01:25:00+00:00 -16.857958               False   \n2020-06-20 01:30:00+00:00 -17.295708               False   \n2020-06-20 01:35:00+00:00 -17.724792               False   \n\n                           preparechangetrendconfirm  continueup     delta  \\\ndate                                                                         \n2020-06-20 01:15:00+00:00                      False        True -0.329167   \n2020-06-20 01:20:00+00:00                      False        True -0.323333   \n2020-06-20 01:25:00+00:00                      False        True -0.326833   \n2020-06-20 01:30:00+00:00                      False        True -0.354500   \n2020-06-20 01:35:00+00:00                      False        True -0.387500   \n\n                           slowingdown  buy  sell  \ndate                                               \n2020-06-20 01:15:00+00:00        False  NaN   NaN  \n2020-06-20 01:20:00+00:00        False  NaN   NaN  \n2020-06-20 01:25:00+00:00         True  NaN   NaN  \n2020-06-20 01:30:00+00:00         True  NaN   NaN  \n2020-06-20 01:35:00+00:00         True  NaN   NaN  \n\n[5 rows x 27 columns]",
      "text/html": "<div>\n<style scoped>\n    .dataframe tbody tr th:only-of-type {\n        vertical-align: middle;\n    }\n\n    .dataframe tbody tr th {\n        vertical-align: top;\n    }\n\n    .dataframe thead th {\n        text-align: right;\n    }\n</style>\n<table border=\"1\" class=\"dataframe\">\n  <thead>\n    <tr style=\"text-align: right;\">\n      <th></th>\n      <th>date</th>\n      <th>open</th>\n      <th>high</th>\n      <th>low</th>\n      <th>close</th>\n      <th>volume</th>\n      <th>rsi</th>\n      <th>emarsi</th>\n      <th>adx</th>\n      <th>minusdi</th>\n      <th>...</th>\n      <th>bigup</th>\n      <th>bigdown</th>\n      <th>trend</th>\n      <th>preparechangetrend</th>\n      <th>preparechangetrendconfirm</th>\n      <th>continueup</th>\n      <th>delta</th>\n      <th>slowingdown</th>\n      <th>buy</th>\n      <th>sell</th>\n    </tr>\n    <tr>\n      <th>date</th>\n      <th></th>\n      <th></th>\n      <th></th>\n      <th></th>\n      <th></th>\n      <th></th>\n      <th></th>\n      <th></th>\n      <th></th>\n      <th></th>\n      <th></th>\n      <th></th>\n      <th></th>\n      <th></th>\n      <th></th>\n      <th></th>\n      <th></th>\n      <th></th>\n      <th></th>\n      <th></th>\n      <th></th>\n    </tr>\n  </thead>\n  <tbody>\n    <tr>\n      <th>2020-06-20 01:15:00+00:00</th>\n      <td>2020-06-20 01:15:00+00:00</td>\n      <td>9319.00</td>\n      <td>9329.00</td>\n      <td>9312.31</td>\n      <td>9326.20</td>\n      <td>133.883099</td>\n      <td>72.543546</td>\n      <td>56.187182</td>\n      <td>11.368861</td>\n      <td>22.526765</td>\n      <td>...</td>\n      <td>False</td>\n      <td>True</td>\n      <td>-16.112792</td>\n      <td>False</td>\n      <td>False</td>\n      <td>True</td>\n      <td>-0.329167</td>\n      <td>False</td>\n      <td>NaN</td>\n      <td>NaN</td>\n    </tr>\n    <tr>\n      <th>2020-06-20 01:20:00+00:00</th>\n      <td>2020-06-20 01:20:00+00:00</td>\n      <td>9326.28</td>\n      <td>9327.60</td>\n      <td>9316.15</td>\n      <td>9316.58</td>\n      <td>69.742946</td>\n      <td>52.508304</td>\n      <td>54.960889</td>\n      <td>10.828760</td>\n      <td>21.260174</td>\n      <td>...</td>\n      <td>False</td>\n      <td>True</td>\n      <td>-16.452083</td>\n      <td>False</td>\n      <td>False</td>\n      <td>True</td>\n      <td>-0.323333</td>\n      <td>False</td>\n      <td>NaN</td>\n      <td>NaN</td>\n    </tr>\n    <tr>\n      <th>2020-06-20 01:25:00+00:00</th>\n      <td>2020-06-20 01:25:00+00:00</td>\n      <td>9316.57</td>\n      <td>9325.00</td>\n      <td>9316.57</td>\n      <td>9319.52</td>\n      <td>83.533652</td>\n      <td>57.040770</td>\n      <td>55.654183</td>\n      <td>10.327238</td>\n      <td>20.352835</td>\n      <td>...</td>\n      <td>False</td>\n      <td>True</td>\n      <td>-16.857958</td>\n      <td>False</td>\n      <td>False</td>\n      <td>True</td>\n      <td>-0.326833</td>\n      <td>True</td>\n      <td>NaN</td>\n      <td>NaN</td>\n    </tr>\n    <tr>\n      <th>2020-06-20 01:30:00+00:00</th>\n      <td>2020-06-20 01:30:00+00:00</td>\n      <td>9319.52</td>\n      <td>9326.72</td>\n      <td>9319.05</td>\n      <td>9323.16</td>\n      <td>61.897065</td>\n      <td>62.569292</td>\n      <td>57.959219</td>\n      <td>10.010498</td>\n      <td>19.535898</td>\n      <td>...</td>\n      <td>False</td>\n      <td>True</td>\n      <td>-17.295708</td>\n      <td>False</td>\n      <td>False</td>\n      <td>True</td>\n      <td>-0.354500</td>\n      <td>True</td>\n      <td>NaN</td>\n      <td>NaN</td>\n    </tr>\n    <tr>\n      <th>2020-06-20 01:35:00+00:00</th>\n      <td>2020-06-20 01:35:00+00:00</td>\n      <td>9323.37</td>\n      <td>9325.76</td>\n      <td>9317.27</td>\n      <td>9322.49</td>\n      <td>53.627511</td>\n      <td>60.769905</td>\n      <td>58.896114</td>\n      <td>9.537939</td>\n      <td>19.601193</td>\n      <td>...</td>\n      <td>False</td>\n      <td>True</td>\n      <td>-17.724792</td>\n      <td>False</td>\n      <td>False</td>\n      <td>True</td>\n      <td>-0.387500</td>\n      <td>True</td>\n      <td>NaN</td>\n      <td>NaN</td>\n    </tr>\n  </tbody>\n</table>\n<p>5 rows × 27 columns</p>\n</div>"
     },
     "metadata": {},
     "execution_count": 16
    }
   ],
   "source": [
    "# Report results\n",
    "print(f\"Generated {df['buy'].sum()} buy signals\")\n",
    "data = df.set_index('date', drop=False)\n",
    "data.tail()"
   ]
  },
  {
   "cell_type": "code",
   "execution_count": 31,
   "metadata": {},
   "outputs": [
    {
     "output_type": "execute_result",
     "data": {
      "text/plain": "pair       sell_reason\nADA/USDT   sell_signal    214\nALGO/USDT  sell_signal    259\nATOM/USDT  sell_signal    247\nBAT/USDT   sell_signal    225\n           force_sell       1\nBCH/USDT   sell_signal     91\nBTC/USDT   sell_signal    158\nDASH/USDT  sell_signal    222\nEOS/USDT   sell_signal    152\nETH/USDT   sell_signal    169\nIOTA/USDT  sell_signal    193\nLINK/USDT  sell_signal    193\n           stop_loss        1\nLTC/USDT   sell_signal    165\nMCO/USDT   sell_signal    122\nNEO/USDT   sell_signal    201\nXLM/USDT   sell_signal    252\nXMR/USDT   sell_signal    215\nXRP/USDT   sell_signal    172\nXTZ/USDT   sell_signal    174\nName: sell_reason, dtype: int64"
     },
     "metadata": {},
     "execution_count": 31
    }
   ],
   "source": [
    "from freqtrade.data.btanalysis import load_backtest_data\n",
    "\n",
    "# Load backtest results\n",
    "trades = load_backtest_data(config[\"user_data_dir\"] /(\"backtest_results/backtest-result-\" + strategy_name +\".json\"))\n",
    "\n",
    "# Show value-counts per pair\n",
    "trades.groupby(\"pair\")[\"sell_reason\"].value_counts()"
   ]
  },
  {
   "cell_type": "code",
   "execution_count": 32,
   "metadata": {},
   "outputs": [
    {
     "output_type": "error",
     "ename": "IndexError",
     "evalue": "boolean index did not match indexed array along dimension 0; dimension is 0 but corresponding boolean dimension is 1",
     "traceback": [
      "\u001b[0;31m---------------------------------------------------------------------------\u001b[0m",
      "\u001b[0;31mIndexError\u001b[0m                                Traceback (most recent call last)",
      "\u001b[0;32m<ipython-input-32-89acdd7568eb>\u001b[0m in \u001b[0;36m<module>\u001b[0;34m\u001b[0m\n\u001b[1;32m      5\u001b[0m \u001b[0;34m\u001b[0m\u001b[0m\n\u001b[1;32m      6\u001b[0m \u001b[0;31m# Display results\u001b[0m\u001b[0;34m\u001b[0m\u001b[0;34m\u001b[0m\u001b[0;34m\u001b[0m\u001b[0m\n\u001b[0;32m----> 7\u001b[0;31m \u001b[0mtrades\u001b[0m\u001b[0;34m.\u001b[0m\u001b[0mgroupby\u001b[0m\u001b[0;34m(\u001b[0m\u001b[0;34m\"pair\"\u001b[0m\u001b[0;34m)\u001b[0m\u001b[0;34m[\u001b[0m\u001b[0;34m\"sell_reason\"\u001b[0m\u001b[0;34m]\u001b[0m\u001b[0;34m.\u001b[0m\u001b[0mvalue_counts\u001b[0m\u001b[0;34m(\u001b[0m\u001b[0;34m)\u001b[0m\u001b[0;34m\u001b[0m\u001b[0;34m\u001b[0m\u001b[0m\n\u001b[0m",
      "\u001b[0;32m~/freqtrade/.env/lib/python3.8/site-packages/pandas/core/groupby/generic.py\u001b[0m in \u001b[0;36mvalue_counts\u001b[0;34m(self, normalize, sort, ascending, bins, dropna)\u001b[0m\n\u001b[1;32m    694\u001b[0m         \u001b[0;31m# multi-index components\u001b[0m\u001b[0;34m\u001b[0m\u001b[0;34m\u001b[0m\u001b[0;34m\u001b[0m\u001b[0m\n\u001b[1;32m    695\u001b[0m         \u001b[0mcodes\u001b[0m \u001b[0;34m=\u001b[0m \u001b[0mself\u001b[0m\u001b[0;34m.\u001b[0m\u001b[0mgrouper\u001b[0m\u001b[0;34m.\u001b[0m\u001b[0mreconstructed_codes\u001b[0m\u001b[0;34m\u001b[0m\u001b[0;34m\u001b[0m\u001b[0m\n\u001b[0;32m--> 696\u001b[0;31m         \u001b[0mcodes\u001b[0m \u001b[0;34m=\u001b[0m \u001b[0;34m[\u001b[0m\u001b[0mrep\u001b[0m\u001b[0;34m(\u001b[0m\u001b[0mlevel_codes\u001b[0m\u001b[0;34m)\u001b[0m \u001b[0;32mfor\u001b[0m \u001b[0mlevel_codes\u001b[0m \u001b[0;32min\u001b[0m \u001b[0mcodes\u001b[0m\u001b[0;34m]\u001b[0m \u001b[0;34m+\u001b[0m \u001b[0;34m[\u001b[0m\u001b[0mllab\u001b[0m\u001b[0;34m(\u001b[0m\u001b[0mlab\u001b[0m\u001b[0;34m,\u001b[0m \u001b[0minc\u001b[0m\u001b[0;34m)\u001b[0m\u001b[0;34m]\u001b[0m\u001b[0;34m\u001b[0m\u001b[0;34m\u001b[0m\u001b[0m\n\u001b[0m\u001b[1;32m    697\u001b[0m         \u001b[0mlevels\u001b[0m \u001b[0;34m=\u001b[0m \u001b[0;34m[\u001b[0m\u001b[0mping\u001b[0m\u001b[0;34m.\u001b[0m\u001b[0mgroup_index\u001b[0m \u001b[0;32mfor\u001b[0m \u001b[0mping\u001b[0m \u001b[0;32min\u001b[0m \u001b[0mself\u001b[0m\u001b[0;34m.\u001b[0m\u001b[0mgrouper\u001b[0m\u001b[0;34m.\u001b[0m\u001b[0mgroupings\u001b[0m\u001b[0;34m]\u001b[0m \u001b[0;34m+\u001b[0m \u001b[0;34m[\u001b[0m\u001b[0mlev\u001b[0m\u001b[0;34m]\u001b[0m\u001b[0;34m\u001b[0m\u001b[0;34m\u001b[0m\u001b[0m\n\u001b[1;32m    698\u001b[0m         \u001b[0mnames\u001b[0m \u001b[0;34m=\u001b[0m \u001b[0mself\u001b[0m\u001b[0;34m.\u001b[0m\u001b[0mgrouper\u001b[0m\u001b[0;34m.\u001b[0m\u001b[0mnames\u001b[0m \u001b[0;34m+\u001b[0m \u001b[0;34m[\u001b[0m\u001b[0mself\u001b[0m\u001b[0;34m.\u001b[0m\u001b[0m_selection_name\u001b[0m\u001b[0;34m]\u001b[0m\u001b[0;34m\u001b[0m\u001b[0;34m\u001b[0m\u001b[0m\n",
      "\u001b[0;32m~/freqtrade/.env/lib/python3.8/site-packages/pandas/core/groupby/generic.py\u001b[0m in \u001b[0;36m<lambda>\u001b[0;34m(lab, inc)\u001b[0m\n\u001b[1;32m    663\u001b[0m         \u001b[0;32mif\u001b[0m \u001b[0mbins\u001b[0m \u001b[0;32mis\u001b[0m \u001b[0;32mNone\u001b[0m\u001b[0;34m:\u001b[0m\u001b[0;34m\u001b[0m\u001b[0;34m\u001b[0m\u001b[0m\n\u001b[1;32m    664\u001b[0m             \u001b[0mlab\u001b[0m\u001b[0;34m,\u001b[0m \u001b[0mlev\u001b[0m \u001b[0;34m=\u001b[0m \u001b[0malgorithms\u001b[0m\u001b[0;34m.\u001b[0m\u001b[0mfactorize\u001b[0m\u001b[0;34m(\u001b[0m\u001b[0mval\u001b[0m\u001b[0;34m,\u001b[0m \u001b[0msort\u001b[0m\u001b[0;34m=\u001b[0m\u001b[0;32mTrue\u001b[0m\u001b[0;34m)\u001b[0m\u001b[0;34m\u001b[0m\u001b[0;34m\u001b[0m\u001b[0m\n\u001b[0;32m--> 665\u001b[0;31m             \u001b[0mllab\u001b[0m \u001b[0;34m=\u001b[0m \u001b[0;32mlambda\u001b[0m \u001b[0mlab\u001b[0m\u001b[0;34m,\u001b[0m \u001b[0minc\u001b[0m\u001b[0;34m:\u001b[0m \u001b[0mlab\u001b[0m\u001b[0;34m[\u001b[0m\u001b[0minc\u001b[0m\u001b[0;34m]\u001b[0m\u001b[0;34m\u001b[0m\u001b[0;34m\u001b[0m\u001b[0m\n\u001b[0m\u001b[1;32m    666\u001b[0m         \u001b[0;32melse\u001b[0m\u001b[0;34m:\u001b[0m\u001b[0;34m\u001b[0m\u001b[0;34m\u001b[0m\u001b[0m\n\u001b[1;32m    667\u001b[0m \u001b[0;34m\u001b[0m\u001b[0m\n",
      "\u001b[0;31mIndexError\u001b[0m: boolean index did not match indexed array along dimension 0; dimension is 0 but corresponding boolean dimension is 1"
     ]
    }
   ],
   "source": [
    "#Works with live results only\n",
    "from freqtrade.data.btanalysis import load_trades_from_db\n",
    "\n",
    "# Fetch trades from database\n",
    "trades = load_trades_from_db(\"sqlite:///tradesv3.sqlite\")\n",
    "\n",
    "# Display results\n",
    "trades.groupby(\"pair\")[\"sell_reason\"].value_counts()\n",
    "\n",
    "from freqtrade.data.btanalysis import analyze_trade_parallelism\n",
    "\n",
    "# Analyze the above\n",
    "parallel_trades = analyze_trade_parallelism(trades, '5m')\n",
    "\n",
    "parallel_trades.plot()"
   ]
  },
  {
   "cell_type": "code",
   "execution_count": 34,
   "metadata": {
    "tags": []
   },
   "outputs": [
    {
     "output_type": "stream",
     "name": "stderr",
     "text": "2020-06-21 15:02:57,954 - freqtrade.plot.plotting - WARNING - No buy-signals found.\n2020-06-21 15:02:57,955 - freqtrade.plot.plotting - WARNING - No sell-signals found.\n2020-06-21 15:02:57,955 - freqtrade.plot.plotting - INFO - Indicator \"sma20\" ignored. Reason: This indicator is not found in your strategy.\n2020-06-21 15:02:57,956 - freqtrade.plot.plotting - INFO - Indicator \"ema50\" ignored. Reason: This indicator is not found in your strategy.\n2020-06-21 15:02:57,956 - freqtrade.plot.plotting - INFO - Indicator \"ema55\" ignored. Reason: This indicator is not found in your strategy.\n2020-06-21 15:02:57,956 - freqtrade.plot.plotting - WARNING - No trades found.\n2020-06-21 15:02:57,981 - freqtrade.plot.plotting - INFO - Indicator \"macd\" ignored. Reason: This indicator is not found in your strategy.\n2020-06-21 15:02:57,981 - freqtrade.plot.plotting - INFO - Indicator \"macdsignal\" ignored. Reason: This indicator is not found in your strategy.\n2020-06-21 15:02:57,982 - freqtrade.plot.plotting - INFO - Indicator \"macdhist\" ignored. Reason: This indicator is not found in your strategy.\n"
    }
   ],
   "source": [
    "from freqtrade.plot.plotting import  generate_candlestick_graph\n",
    "# Limit graph period to keep plotly quick and reactive\n",
    "\n",
    "# Filter trades to one pair\n",
    "trades_red = trades.loc[trades['pair'] == pair]\n",
    "\n",
    "data_red = data['2019-06-01':'2019-06-10']\n",
    "# Generate candlestick graph\n",
    "graph = generate_candlestick_graph(pair=pair,\n",
    "                                   data=data_red,\n",
    "                                   trades=trades_red,\n",
    "                                   indicators1=['sma20', 'ema50', 'ema55'],\n",
    "                                   indicators2=['rsi', 'macd', 'macdsignal', 'macdhist']\n",
    "                                  )"
   ]
  },
  {
   "cell_type": "code",
   "execution_count": 35,
   "metadata": {},
   "outputs": [],
   "source": [
    "# Show graph inline\n",
    "# graph.show()\n",
    "\n",
    "# Render graph in a seperate window\n",
    "graph.show(renderer=\"browser\")"
   ]
  },
  {
   "cell_type": "code",
   "execution_count": null,
   "metadata": {},
   "outputs": [],
   "source": []
  }
 ],
 "metadata": {
  "language_info": {
   "codemirror_mode": {
    "name": "ipython",
    "version": 3
   },
   "file_extension": ".py",
   "mimetype": "text/x-python",
   "name": "python",
   "nbconvert_exporter": "python",
   "pygments_lexer": "ipython3",
   "version": "3.8.2-final"
  },
  "orig_nbformat": 2,
  "kernelspec": {
   "name": "python38264bitenvvenv0b2c3b00b3d94368a1dbb4c2a07db221",
   "display_name": "Python 3.8.2 64-bit ('.env': venv)"
  }
 },
 "nbformat": 4,
 "nbformat_minor": 2
}